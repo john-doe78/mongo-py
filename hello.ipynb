{
 "cells": [
  {
   "cell_type": "code",
   "execution_count": 1,
   "metadata": {},
   "outputs": [
    {
     "name": "stdout",
     "output_type": "stream",
     "text": [
      "Collecting pymongo\n",
      "  Downloading pymongo-4.10.1-cp312-cp312-manylinux_2_17_x86_64.manylinux2014_x86_64.whl.metadata (22 kB)\n",
      "Collecting dnspython<3.0.0,>=1.16.0 (from pymongo)\n",
      "  Downloading dnspython-2.7.0-py3-none-any.whl.metadata (5.8 kB)\n",
      "Downloading pymongo-4.10.1-cp312-cp312-manylinux_2_17_x86_64.manylinux2014_x86_64.whl (1.9 MB)\n",
      "\u001b[2K   \u001b[90m━━━━━━━━━━━━━━━━━━━━━━━━━━━━━━━━━━━━━━━━\u001b[0m \u001b[32m1.9/1.9 MB\u001b[0m \u001b[31m9.6 MB/s\u001b[0m eta \u001b[36m0:00:00\u001b[0ma \u001b[36m0:00:01\u001b[0m\n",
      "\u001b[?25hDownloading dnspython-2.7.0-py3-none-any.whl (313 kB)\n",
      "Installing collected packages: dnspython, pymongo\n",
      "Successfully installed dnspython-2.7.0 pymongo-4.10.1\n",
      "\n",
      "\u001b[1m[\u001b[0m\u001b[34;49mnotice\u001b[0m\u001b[1;39;49m]\u001b[0m\u001b[39;49m A new release of pip is available: \u001b[0m\u001b[31;49m24.2\u001b[0m\u001b[39;49m -> \u001b[0m\u001b[32;49m24.3.1\u001b[0m\n",
      "\u001b[1m[\u001b[0m\u001b[34;49mnotice\u001b[0m\u001b[1;39;49m]\u001b[0m\u001b[39;49m To update, run: \u001b[0m\u001b[32;49mpython -m pip install --upgrade pip\u001b[0m\n",
      "Note: you may need to restart the kernel to use updated packages.\n"
     ]
    }
   ],
   "source": [
    "%pip install pymongo"
   ]
  },
  {
   "cell_type": "code",
   "execution_count": 2,
   "metadata": {},
   "outputs": [],
   "source": [
    "import pymongo\n",
    "\n",
    "# connect to the mongodb server\n",
    "client = pymongo.MongoClient(host=\"mongodb://localhost:27017/\")"
   ]
  },
  {
   "cell_type": "markdown",
   "metadata": {},
   "source": [
    "### Write a Python program to display all available databases"
   ]
  },
  {
   "cell_type": "code",
   "execution_count": 3,
   "metadata": {},
   "outputs": [
    {
     "name": "stdout",
     "output_type": "stream",
     "text": [
      "admin\n",
      "config\n",
      "local\n"
     ]
    }
   ],
   "source": [
    "dbs = client.list_database_names()\n",
    "\n",
    "for database in dbs:\n",
    "    print(database)"
   ]
  },
  {
   "cell_type": "markdown",
   "metadata": {},
   "source": [
    "### Create a new database `pythonDB` and collection `frameworks` and insert one document."
   ]
  },
  {
   "cell_type": "code",
   "execution_count": 4,
   "metadata": {},
   "outputs": [
    {
     "name": "stdout",
     "output_type": "stream",
     "text": [
      "{'_id': ObjectId('67345ef1f66c5f6c70c0b757'), 'name': 'Django Framework', 'version': '5.1.3', 'release_year': 2008}\n"
     ]
    }
   ],
   "source": [
    "db = client[\"pythonDB\"]\n",
    "collection = db[\"frameworks\"]\n",
    "\n",
    "document = {\n",
    "    \"name\": \"Django Framework\",\n",
    "    \"version\": \"5.1.3\",\n",
    "    \"release_year\": 2008\n",
    "}\n",
    "\n",
    "collection.insert_one(document)\n",
    "\n",
    "for document in collection.find():\n",
    "    print(document)"
   ]
  },
  {
   "cell_type": "markdown",
   "metadata": {},
   "source": [
    "### Insert multiple documents"
   ]
  },
  {
   "cell_type": "code",
   "execution_count": 5,
   "metadata": {},
   "outputs": [
    {
     "name": "stdout",
     "output_type": "stream",
     "text": [
      "Total 11 documents\n",
      "{'_id': ObjectId('67345ef1f66c5f6c70c0b757'), 'name': 'Django Framework', 'version': '5.1.3', 'release_year': 2008}\n",
      "{'_id': ObjectId('67345f0df66c5f6c70c0b758'), 'name': 'React', 'version': '18.1.0', 'release_year': 2013}\n",
      "{'_id': ObjectId('67345f0df66c5f6c70c0b759'), 'name': 'Vue.js', 'version': '3.2.26', 'release_year': 2014}\n",
      "{'_id': ObjectId('67345f0df66c5f6c70c0b75a'), 'name': 'Node.js', 'version': '16.3.0', 'release_year': 2009}\n",
      "{'_id': ObjectId('67345f0df66c5f6c70c0b75b'), 'name': 'Angular', 'version': '14.0.0', 'release_year': 2010}\n",
      "{'_id': ObjectId('67345f0df66c5f6c70c0b75c'), 'name': 'Laravel', 'version': '9.5.0', 'release_year': 2011}\n",
      "{'_id': ObjectId('67345f0df66c5f6c70c0b75d'), 'name': 'Ruby on Rails', 'version': '7.0.0', 'release_year': 2005}\n",
      "{'_id': ObjectId('67345f0df66c5f6c70c0b75e'), 'name': 'Spring Framework', 'version': '5.3.18', 'release_year': 2003}\n",
      "{'_id': ObjectId('67345f0df66c5f6c70c0b75f'), 'name': 'Flask', 'version': '2.2.2', 'release_year': 2010}\n",
      "{'_id': ObjectId('67345f0df66c5f6c70c0b760'), 'name': 'Express.js', 'version': '4.18.2', 'release_year': 2010}\n",
      "{'_id': ObjectId('67345f0df66c5f6c70c0b761'), 'name': 'ASP.NET Core', 'version': '7.0.0', 'release_year': 2016}\n"
     ]
    }
   ],
   "source": [
    "documents = [\n",
    "    {\n",
    "        \"name\": \"React\",\n",
    "        \"version\": \"18.1.0\",\n",
    "        \"release_year\": 2013\n",
    "    },\n",
    "    {\n",
    "        \"name\": \"Vue.js\",\n",
    "        \"version\": \"3.2.26\",\n",
    "        \"release_year\": 2014\n",
    "    },\n",
    "    {\n",
    "        \"name\": \"Node.js\",\n",
    "        \"version\": \"16.3.0\",\n",
    "        \"release_year\": 2009\n",
    "    },\n",
    "    {\n",
    "        \"name\": \"Angular\",\n",
    "        \"version\": \"14.0.0\",\n",
    "        \"release_year\": 2010\n",
    "    },\n",
    "    {\n",
    "        \"name\": \"Laravel\",\n",
    "        \"version\": \"9.5.0\",\n",
    "        \"release_year\": 2011\n",
    "    },\n",
    "    {\n",
    "        \"name\": \"Ruby on Rails\",\n",
    "        \"version\": \"7.0.0\",\n",
    "        \"release_year\": 2005\n",
    "    },\n",
    "    {\n",
    "        \"name\": \"Spring Framework\",\n",
    "        \"version\": \"5.3.18\",\n",
    "        \"release_year\": 2003\n",
    "    },\n",
    "    {\n",
    "        \"name\": \"Flask\",\n",
    "        \"version\": \"2.2.2\",\n",
    "        \"release_year\": 2010\n",
    "    },\n",
    "    {\n",
    "        \"name\": \"Express.js\",\n",
    "        \"version\": \"4.18.2\",\n",
    "        \"release_year\": 2010\n",
    "    },\n",
    "    {\n",
    "        \"name\": \"ASP.NET Core\",\n",
    "        \"version\": \"7.0.0\",\n",
    "        \"release_year\": 2016\n",
    "    }\n",
    "]\n",
    "\n",
    "collection.insert_many(documents=documents)\n",
    "\n",
    "print(f\"Total {collection.count_documents({})} documents\")\n",
    "\n",
    "for document in collection.find():\n",
    "    print(document)"
   ]
  },
  {
   "cell_type": "markdown",
   "metadata": {},
   "source": [
    "### Find all frameworks whose relase year is greater than 2010"
   ]
  },
  {
   "cell_type": "code",
   "execution_count": 6,
   "metadata": {},
   "outputs": [
    {
     "name": "stdout",
     "output_type": "stream",
     "text": [
      "{'_id': ObjectId('67345f0df66c5f6c70c0b758'), 'name': 'React', 'version': '18.1.0', 'release_year': 2013}\n",
      "{'_id': ObjectId('67345f0df66c5f6c70c0b759'), 'name': 'Vue.js', 'version': '3.2.26', 'release_year': 2014}\n",
      "{'_id': ObjectId('67345f0df66c5f6c70c0b75c'), 'name': 'Laravel', 'version': '9.5.0', 'release_year': 2011}\n",
      "{'_id': ObjectId('67345f0df66c5f6c70c0b761'), 'name': 'ASP.NET Core', 'version': '7.0.0', 'release_year': 2016}\n"
     ]
    }
   ],
   "source": [
    "documents = collection.find({\n",
    "    \"release_year\": {\"$gt\": 2010}\n",
    "})\n",
    "\n",
    "for document in documents:\n",
    "    print(document)"
   ]
  },
  {
   "cell_type": "code",
   "execution_count": 7,
   "metadata": {},
   "outputs": [
    {
     "name": "stdout",
     "output_type": "stream",
     "text": [
      "{'_id': ObjectId('67345f0df66c5f6c70c0b761'), 'name': 'ASP.NET Core', 'version': '7.0.0', 'release_year': 2016}\n",
      "{'_id': ObjectId('67345f0df66c5f6c70c0b759'), 'name': 'Vue.js', 'version': '3.2.26', 'release_year': 2014}\n",
      "{'_id': ObjectId('67345f0df66c5f6c70c0b758'), 'name': 'React', 'version': '18.1.0', 'release_year': 2013}\n",
      "{'_id': ObjectId('67345f0df66c5f6c70c0b75c'), 'name': 'Laravel', 'version': '9.5.0', 'release_year': 2011}\n",
      "{'_id': ObjectId('67345f0df66c5f6c70c0b75b'), 'name': 'Angular', 'version': '14.0.0', 'release_year': 2010}\n",
      "{'_id': ObjectId('67345f0df66c5f6c70c0b75f'), 'name': 'Flask', 'version': '2.2.2', 'release_year': 2010}\n",
      "{'_id': ObjectId('67345f0df66c5f6c70c0b760'), 'name': 'Express.js', 'version': '4.18.2', 'release_year': 2010}\n",
      "{'_id': ObjectId('67345f0df66c5f6c70c0b75a'), 'name': 'Node.js', 'version': '16.3.0', 'release_year': 2009}\n",
      "{'_id': ObjectId('67345ef1f66c5f6c70c0b757'), 'name': 'Django Framework', 'version': '5.1.3', 'release_year': 2008}\n",
      "{'_id': ObjectId('67345f0df66c5f6c70c0b75d'), 'name': 'Ruby on Rails', 'version': '7.0.0', 'release_year': 2005}\n",
      "{'_id': ObjectId('67345f0df66c5f6c70c0b75e'), 'name': 'Spring Framework', 'version': '5.3.18', 'release_year': 2003}\n"
     ]
    }
   ],
   "source": [
    "# sort the collection\n",
    "for doc in collection.find().sort({\"release_year\": -1}):\n",
    "    print(doc)"
   ]
  },
  {
   "cell_type": "code",
   "execution_count": 8,
   "metadata": {},
   "outputs": [
    {
     "name": "stdout",
     "output_type": "stream",
     "text": [
      "{'_id': ObjectId('67345ef1f66c5f6c70c0b757'), 'name': 'Django Framework', 'version': '5.1.3', 'release_year': 2008}\n",
      "{'_id': ObjectId('67345f0df66c5f6c70c0b758'), 'name': 'React', 'version': '18.1.0', 'release_year': 2013}\n",
      "{'_id': ObjectId('67345f0df66c5f6c70c0b759'), 'name': 'Vue.js', 'version': '3.2.26', 'release_year': 2014}\n"
     ]
    }
   ],
   "source": [
    "for doc in collection.find().limit(3):\n",
    "    print(doc)"
   ]
  }
 ],
 "metadata": {
  "kernelspec": {
   "display_name": "Python 3",
   "language": "python",
   "name": "python3"
  },
  "language_info": {
   "codemirror_mode": {
    "name": "ipython",
    "version": 3
   },
   "file_extension": ".py",
   "mimetype": "text/x-python",
   "name": "python",
   "nbconvert_exporter": "python",
   "pygments_lexer": "ipython3",
   "version": "3.12.1"
  }
 },
 "nbformat": 4,
 "nbformat_minor": 2
}
